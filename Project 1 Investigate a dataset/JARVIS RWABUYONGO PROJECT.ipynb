{
 "cells": [
  {
   "cell_type": "markdown",
   "id": "ddfb5f76",
   "metadata": {},
   "source": [
    "\n",
    "# Project: Investigate a dataset - No-show for medical appointments in Brazil\n",
    "### **by Jarvis Rwabuyongo**\n",
    "\n",
    "   \n",
    "   ***\n",
    "\n",
    "## Table of Contents\n",
    "<ul>\n",
    "<li><a href=\"#intro\">Introduction</a></li>\n",
    "<li><a href=\"#wrangling\">Data wrangling</a></li>\n",
    "<li><a href=\"#eda\">Exploratory Data Analysis</a></li>\n",
    "<li><a href=\"#conclusions\">Conclusions and answers</a></li>\n",
    "</ul>\n",
    "\n"
   ]
  },
  {
   "cell_type": "markdown",
   "id": "46e20c25",
   "metadata": {},
   "source": [
    "<a id='intro'></a>\n",
    "\n",
    "## Introduction \n",
    "\n",
    "For my first project I will be analyzing and drawing some conclusions based on a dataset showing no-show and show data for medical appointments from Brazil, combined with some other data from which the original source is [here](https://www.google.com/url?q=https://www.kaggle.com/joniarroba/noshowappointments&sa=D&ust=1532469042118000)\n",
    "\n",
    "#### Description of the values in the dataset\n",
    "- Age =>Tells us how old the patients are.\n",
    "- Alcoholism => Is the patient an alcoholic?.\n",
    "- AppointmentDay => The day the patient has to meet the doctor.\n",
    "- AppointmentID => Identification of the appointment.\n",
    "- Diabetes => Is the patient diabetic or not.\n",
    "- Gender => Gender of the patient.\n",
    "- Handcap => Shows us if the patient is handicapped.\n",
    "- Hipertension => Shows us if the patient suffers from hypertension.\n",
    "- Neighborhood => Where the hospital is located.\n",
    "- No-show => Shows us wether the patient showed up or did not show up for the appointment.\n",
    "- PatientId => Identification of the patient.\n",
    "- ScheduledDay => this tells us on what day the patient had set up their appointment.\n",
    "- Scholarship => Shows us if the patient is enrolled in Brasilian welfare program Bolsa Família.\n",
    "- SMS_received => 1 or more messages received by the patient.\n",
    "\n",
    "#### Questions asked:\n",
    "**Based on the data present, I was able to come up with the questions below as to why the patients may not show up for their scheduled medical appointments in Brazil**\n",
    "- Can the age of the patients be a factor for them to show up or not show up for the medical appointments?\n",
    "- Does the patient's health condition affect if they will show up for their medical appointments?\n",
    "- Does sending an SMS regarding the medical appointment to the patients help them show up for their appointments?\n",
    "\n",
    "#### Loading of libraries and packages to be used in the project:"
   ]
  },
  {
   "cell_type": "code",
   "execution_count": 1,
   "id": "ce58d200",
   "metadata": {},
   "outputs": [],
   "source": [
    "import pandas as pd\n",
    "import numpy as np\n",
    "import matplotlib.pyplot as plt\n",
    "import seaborn as sns\n",
    "%matplotlib inline"
   ]
  },
  {
   "cell_type": "markdown",
   "id": "eebb689b",
   "metadata": {},
   "source": [
    "<a id='wrangling'></a>\n",
    "## Data wrangling \n",
    "In this section I will be performing data wrangling procedures which are gathering the data(Loading the csv data to my notebook), assessing the data and cleaning it before using it to explore my problem set \n",
    "\n",
    "### General properties\n",
    "In this part we load the data into our notebook, and we display its first 5 entries so that we can get a clear picture of the dataset. We will also need to perform more procedures to see the structure of the data."
   ]
  },
  {
   "cell_type": "code",
   "execution_count": 2,
   "id": "8a10db01",
   "metadata": {},
   "outputs": [
    {
     "data": {
      "text/html": [
       "<div>\n",
       "<style scoped>\n",
       "    .dataframe tbody tr th:only-of-type {\n",
       "        vertical-align: middle;\n",
       "    }\n",
       "\n",
       "    .dataframe tbody tr th {\n",
       "        vertical-align: top;\n",
       "    }\n",
       "\n",
       "    .dataframe thead th {\n",
       "        text-align: right;\n",
       "    }\n",
       "</style>\n",
       "<table border=\"1\" class=\"dataframe\">\n",
       "  <thead>\n",
       "    <tr style=\"text-align: right;\">\n",
       "      <th></th>\n",
       "      <th>PatientId</th>\n",
       "      <th>AppointmentID</th>\n",
       "      <th>Gender</th>\n",
       "      <th>ScheduledDay</th>\n",
       "      <th>AppointmentDay</th>\n",
       "      <th>Age</th>\n",
       "      <th>Neighbourhood</th>\n",
       "      <th>Scholarship</th>\n",
       "      <th>Hipertension</th>\n",
       "      <th>Diabetes</th>\n",
       "      <th>Alcoholism</th>\n",
       "      <th>Handcap</th>\n",
       "      <th>SMS_received</th>\n",
       "      <th>No-show</th>\n",
       "    </tr>\n",
       "  </thead>\n",
       "  <tbody>\n",
       "    <tr>\n",
       "      <th>0</th>\n",
       "      <td>2.987250e+13</td>\n",
       "      <td>5642903</td>\n",
       "      <td>F</td>\n",
       "      <td>2016-04-29T18:38:08Z</td>\n",
       "      <td>2016-04-29T00:00:00Z</td>\n",
       "      <td>62</td>\n",
       "      <td>JARDIM DA PENHA</td>\n",
       "      <td>0</td>\n",
       "      <td>1</td>\n",
       "      <td>0</td>\n",
       "      <td>0</td>\n",
       "      <td>0</td>\n",
       "      <td>0</td>\n",
       "      <td>No</td>\n",
       "    </tr>\n",
       "    <tr>\n",
       "      <th>1</th>\n",
       "      <td>5.589978e+14</td>\n",
       "      <td>5642503</td>\n",
       "      <td>M</td>\n",
       "      <td>2016-04-29T16:08:27Z</td>\n",
       "      <td>2016-04-29T00:00:00Z</td>\n",
       "      <td>56</td>\n",
       "      <td>JARDIM DA PENHA</td>\n",
       "      <td>0</td>\n",
       "      <td>0</td>\n",
       "      <td>0</td>\n",
       "      <td>0</td>\n",
       "      <td>0</td>\n",
       "      <td>0</td>\n",
       "      <td>No</td>\n",
       "    </tr>\n",
       "    <tr>\n",
       "      <th>2</th>\n",
       "      <td>4.262962e+12</td>\n",
       "      <td>5642549</td>\n",
       "      <td>F</td>\n",
       "      <td>2016-04-29T16:19:04Z</td>\n",
       "      <td>2016-04-29T00:00:00Z</td>\n",
       "      <td>62</td>\n",
       "      <td>MATA DA PRAIA</td>\n",
       "      <td>0</td>\n",
       "      <td>0</td>\n",
       "      <td>0</td>\n",
       "      <td>0</td>\n",
       "      <td>0</td>\n",
       "      <td>0</td>\n",
       "      <td>No</td>\n",
       "    </tr>\n",
       "    <tr>\n",
       "      <th>3</th>\n",
       "      <td>8.679512e+11</td>\n",
       "      <td>5642828</td>\n",
       "      <td>F</td>\n",
       "      <td>2016-04-29T17:29:31Z</td>\n",
       "      <td>2016-04-29T00:00:00Z</td>\n",
       "      <td>8</td>\n",
       "      <td>PONTAL DE CAMBURI</td>\n",
       "      <td>0</td>\n",
       "      <td>0</td>\n",
       "      <td>0</td>\n",
       "      <td>0</td>\n",
       "      <td>0</td>\n",
       "      <td>0</td>\n",
       "      <td>No</td>\n",
       "    </tr>\n",
       "    <tr>\n",
       "      <th>4</th>\n",
       "      <td>8.841186e+12</td>\n",
       "      <td>5642494</td>\n",
       "      <td>F</td>\n",
       "      <td>2016-04-29T16:07:23Z</td>\n",
       "      <td>2016-04-29T00:00:00Z</td>\n",
       "      <td>56</td>\n",
       "      <td>JARDIM DA PENHA</td>\n",
       "      <td>0</td>\n",
       "      <td>1</td>\n",
       "      <td>1</td>\n",
       "      <td>0</td>\n",
       "      <td>0</td>\n",
       "      <td>0</td>\n",
       "      <td>No</td>\n",
       "    </tr>\n",
       "  </tbody>\n",
       "</table>\n",
       "</div>"
      ],
      "text/plain": [
       "      PatientId  AppointmentID Gender          ScheduledDay  \\\n",
       "0  2.987250e+13        5642903      F  2016-04-29T18:38:08Z   \n",
       "1  5.589978e+14        5642503      M  2016-04-29T16:08:27Z   \n",
       "2  4.262962e+12        5642549      F  2016-04-29T16:19:04Z   \n",
       "3  8.679512e+11        5642828      F  2016-04-29T17:29:31Z   \n",
       "4  8.841186e+12        5642494      F  2016-04-29T16:07:23Z   \n",
       "\n",
       "         AppointmentDay  Age      Neighbourhood  Scholarship  Hipertension  \\\n",
       "0  2016-04-29T00:00:00Z   62    JARDIM DA PENHA            0             1   \n",
       "1  2016-04-29T00:00:00Z   56    JARDIM DA PENHA            0             0   \n",
       "2  2016-04-29T00:00:00Z   62      MATA DA PRAIA            0             0   \n",
       "3  2016-04-29T00:00:00Z    8  PONTAL DE CAMBURI            0             0   \n",
       "4  2016-04-29T00:00:00Z   56    JARDIM DA PENHA            0             1   \n",
       "\n",
       "   Diabetes  Alcoholism  Handcap  SMS_received No-show  \n",
       "0         0           0        0             0      No  \n",
       "1         0           0        0             0      No  \n",
       "2         0           0        0             0      No  \n",
       "3         0           0        0             0      No  \n",
       "4         1           0        0             0      No  "
      ]
     },
     "execution_count": 2,
     "metadata": {},
     "output_type": "execute_result"
    }
   ],
   "source": [
    "df_appointment = pd.read_csv('noshowappointments-kagglev2-may-2016.csv')\n",
    "df_appointment.head()\n"
   ]
  },
  {
   "cell_type": "markdown",
   "id": "2a20fc79",
   "metadata": {},
   "source": [
    "Generally I can see that there may be spelling mistakes in some column values such as Hipertension instead of Hypertension and Handcap instead of Handicap"
   ]
  },
  {
   "cell_type": "markdown",
   "id": "f1189fef",
   "metadata": {},
   "source": [
    "### These functions will help me build some intuition in the data values"
   ]
  },
  {
   "cell_type": "code",
   "execution_count": 3,
   "id": "8465ce88",
   "metadata": {},
   "outputs": [
    {
     "data": {
      "text/plain": [
       "(110527, 14)"
      ]
     },
     "execution_count": 3,
     "metadata": {},
     "output_type": "execute_result"
    }
   ],
   "source": [
    "#Checking general structure of the data\n",
    "df_appointment.shape"
   ]
  },
  {
   "cell_type": "markdown",
   "id": "68390668",
   "metadata": {},
   "source": [
    "This output tells me that there are 110527 rows with 14 columns"
   ]
  },
  {
   "cell_type": "code",
   "execution_count": 4,
   "id": "97e177f1",
   "metadata": {
    "scrolled": false
   },
   "outputs": [
    {
     "name": "stdout",
     "output_type": "stream",
     "text": [
      "<class 'pandas.core.frame.DataFrame'>\n",
      "RangeIndex: 110527 entries, 0 to 110526\n",
      "Data columns (total 14 columns):\n",
      " #   Column          Non-Null Count   Dtype  \n",
      "---  ------          --------------   -----  \n",
      " 0   PatientId       110527 non-null  float64\n",
      " 1   AppointmentID   110527 non-null  int64  \n",
      " 2   Gender          110527 non-null  object \n",
      " 3   ScheduledDay    110527 non-null  object \n",
      " 4   AppointmentDay  110527 non-null  object \n",
      " 5   Age             110527 non-null  int64  \n",
      " 6   Neighbourhood   110527 non-null  object \n",
      " 7   Scholarship     110527 non-null  int64  \n",
      " 8   Hipertension    110527 non-null  int64  \n",
      " 9   Diabetes        110527 non-null  int64  \n",
      " 10  Alcoholism      110527 non-null  int64  \n",
      " 11  Handcap         110527 non-null  int64  \n",
      " 12  SMS_received    110527 non-null  int64  \n",
      " 13  No-show         110527 non-null  object \n",
      "dtypes: float64(1), int64(8), object(5)\n",
      "memory usage: 11.8+ MB\n"
     ]
    }
   ],
   "source": [
    "#This shows concise summary of the data frame\n",
    "df_appointment.info()"
   ]
  },
  {
   "cell_type": "markdown",
   "id": "0ed2f6ae",
   "metadata": {},
   "source": [
    "From here I can see that there is no any null value in the data set thus I should check also for presence of duplicate values"
   ]
  },
  {
   "cell_type": "code",
   "execution_count": 5,
   "id": "b251ee88",
   "metadata": {},
   "outputs": [
    {
     "data": {
      "text/plain": [
       "PatientId          62299\n",
       "AppointmentID     110527\n",
       "Gender                 2\n",
       "ScheduledDay      103549\n",
       "AppointmentDay        27\n",
       "Age                  104\n",
       "Neighbourhood         81\n",
       "Scholarship            2\n",
       "Hipertension           2\n",
       "Diabetes               2\n",
       "Alcoholism             2\n",
       "Handcap                5\n",
       "SMS_received           2\n",
       "No-show                2\n",
       "dtype: int64"
      ]
     },
     "execution_count": 5,
     "metadata": {},
     "output_type": "execute_result"
    }
   ],
   "source": [
    "#this function will display number of unique values in the dataset\n",
    "df_appointment.nunique()"
   ]
  },
  {
   "cell_type": "markdown",
   "id": "0236f5c6",
   "metadata": {},
   "source": [
    "Here we can see that :\n",
    "- There are 62299 unique values of the PatientId, this means that there is a total of 62299 patients. \n",
    "- There are 110527 different appointments since they have a unique ID\n",
    "- Gender, Scholarship, Hipertension, Diabetes, Alcoholism, SMS_received and No-show have binary unique values\n",
    "- There are 104 unique ages thus we should check these values to see if there can be values that may be seem impossible,such as very large ages or negative values\n"
   ]
  },
  {
   "cell_type": "code",
   "execution_count": 6,
   "id": "97164a1c",
   "metadata": {},
   "outputs": [
    {
     "data": {
      "text/plain": [
       "array([ 62,  56,   8,  76,  23,  39,  21,  19,  30,  29,  22,  28,  54,\n",
       "        15,  50,  40,  46,   4,  13,  65,  45,  51,  32,  12,  61,  38,\n",
       "        79,  18,  63,  64,  85,  59,  55,  71,  49,  78,  31,  58,  27,\n",
       "         6,   2,  11,   7,   0,   3,   1,  69,  68,  60,  67,  36,  10,\n",
       "        35,  20,  26,  34,  33,  16,  42,   5,  47,  17,  41,  44,  37,\n",
       "        24,  66,  77,  81,  70,  53,  75,  73,  52,  74,  43,  89,  57,\n",
       "        14,   9,  48,  83,  72,  25,  80,  87,  88,  84,  82,  90,  94,\n",
       "        86,  91,  98,  92,  96,  93,  95,  97, 102, 115, 100,  99,  -1],\n",
       "      dtype=int64)"
      ]
     },
     "execution_count": 6,
     "metadata": {},
     "output_type": "execute_result"
    }
   ],
   "source": [
    "#displaying unique values from the Age column\n",
    "df_appointment['Age'].unique()"
   ]
  },
  {
   "cell_type": "markdown",
   "id": "9539ebe5",
   "metadata": {},
   "source": [
    "Here we can see that there is a negative age, '-1' which is not possible and also ages like 115 are not very common, thus may have to be looked at in the data cleaning process"
   ]
  },
  {
   "cell_type": "markdown",
   "id": "6c8b6a3f",
   "metadata": {},
   "source": [
    "#### The health conditions as per from the dataset are Diabetes, Hipertension, Handcap and Alcoholism"
   ]
  },
  {
   "cell_type": "code",
   "execution_count": 7,
   "id": "8120bdfb",
   "metadata": {
    "scrolled": true
   },
   "outputs": [
    {
     "name": "stdout",
     "output_type": "stream",
     "text": [
      "[0 1]\n",
      "[1 0]\n",
      "[0 1 2 3 4]\n",
      "[0 1]\n"
     ]
    }
   ],
   "source": [
    "#displaying the unique values in selected health conditions\n",
    "print(df_appointment['Diabetes'].unique())\n",
    "print(df_appointment['Hipertension'].unique())\n",
    "print(df_appointment['Handcap'].unique())\n",
    "print(df_appointment['Alcoholism'].unique())"
   ]
  },
  {
   "cell_type": "markdown",
   "id": "588678b7",
   "metadata": {},
   "source": [
    "The 5 different values in Handcap means that there are 5 different handcap states, however from the data source, we are told that handcap is either True/False and nothing here can guide us on which measure to be taken. The rest are also true and false thus, **Assumption made here is that for the ones that have binary values, 0 will mean false and 1 will mean true and also for handcap, 0 will signify that there is no any handcap on that patient and the remaining values(1,2,3 and 4) will signify that the patient has some kind of handcap** "
   ]
  },
  {
   "cell_type": "code",
   "execution_count": 8,
   "id": "f2fd03e0",
   "metadata": {},
   "outputs": [
    {
     "data": {
      "text/plain": [
       "array([0, 1], dtype=int64)"
      ]
     },
     "execution_count": 8,
     "metadata": {},
     "output_type": "execute_result"
    }
   ],
   "source": [
    "df_appointment['SMS_received'].unique()"
   ]
  },
  {
   "cell_type": "markdown",
   "id": "9f0bd5eb",
   "metadata": {},
   "source": [
    "This implies to me that 0 will mean that a message was not received and 1 will mean that a message was received prior to the appointment date"
   ]
  },
  {
   "cell_type": "code",
   "execution_count": 9,
   "id": "a658b54f",
   "metadata": {},
   "outputs": [
    {
     "data": {
      "text/plain": [
       "array(['No', 'Yes'], dtype=object)"
      ]
     },
     "execution_count": 9,
     "metadata": {},
     "output_type": "execute_result"
    }
   ],
   "source": [
    "df_appointment['No-show'].unique()"
   ]
  },
  {
   "cell_type": "markdown",
   "id": "1ee56a01",
   "metadata": {},
   "source": [
    "This implies to me that No value will mean that the patient made the appointment and Yes will mean that the patient missed the appointment"
   ]
  },
  {
   "cell_type": "code",
   "execution_count": 10,
   "id": "9904cf3c",
   "metadata": {},
   "outputs": [
    {
     "data": {
      "text/plain": [
       "0"
      ]
     },
     "execution_count": 10,
     "metadata": {},
     "output_type": "execute_result"
    }
   ],
   "source": [
    "#Checking if there is presence of duplicates in our data\n",
    "df_appointment.duplicated().sum()"
   ]
  },
  {
   "cell_type": "markdown",
   "id": "3fb19968",
   "metadata": {},
   "source": [
    "This implies that there is no any duplicated data in our dataframe"
   ]
  },
  {
   "cell_type": "markdown",
   "id": "c5ed85a2",
   "metadata": {},
   "source": [
    "### Data Cleaning"
   ]
  },
  {
   "cell_type": "markdown",
   "id": "29da5f14",
   "metadata": {},
   "source": [
    "Here we will perform some data cleaning procedures based on some features from the previous stage to get some good quality data that can be used for exploratory data analysis\n",
    "\n",
    "**First, renaming the columns Handcap and Hipertension to Handicap and Hypertension respectively:**"
   ]
  },
  {
   "cell_type": "code",
   "execution_count": 11,
   "id": "05eb3023",
   "metadata": {},
   "outputs": [],
   "source": [
    "df_appointment.rename(columns = {'Hipertension' : 'Hypertension', 'Handcap' : 'Handicap'}, inplace = True)"
   ]
  },
  {
   "cell_type": "code",
   "execution_count": 12,
   "id": "f20ed186",
   "metadata": {},
   "outputs": [
    {
     "data": {
      "text/html": [
       "<div>\n",
       "<style scoped>\n",
       "    .dataframe tbody tr th:only-of-type {\n",
       "        vertical-align: middle;\n",
       "    }\n",
       "\n",
       "    .dataframe tbody tr th {\n",
       "        vertical-align: top;\n",
       "    }\n",
       "\n",
       "    .dataframe thead th {\n",
       "        text-align: right;\n",
       "    }\n",
       "</style>\n",
       "<table border=\"1\" class=\"dataframe\">\n",
       "  <thead>\n",
       "    <tr style=\"text-align: right;\">\n",
       "      <th></th>\n",
       "      <th>PatientId</th>\n",
       "      <th>AppointmentID</th>\n",
       "      <th>Gender</th>\n",
       "      <th>ScheduledDay</th>\n",
       "      <th>AppointmentDay</th>\n",
       "      <th>Age</th>\n",
       "      <th>Neighbourhood</th>\n",
       "      <th>Scholarship</th>\n",
       "      <th>Hypertension</th>\n",
       "      <th>Diabetes</th>\n",
       "      <th>Alcoholism</th>\n",
       "      <th>Handicap</th>\n",
       "      <th>SMS_received</th>\n",
       "      <th>No-show</th>\n",
       "    </tr>\n",
       "  </thead>\n",
       "  <tbody>\n",
       "    <tr>\n",
       "      <th>0</th>\n",
       "      <td>2.987250e+13</td>\n",
       "      <td>5642903</td>\n",
       "      <td>F</td>\n",
       "      <td>2016-04-29T18:38:08Z</td>\n",
       "      <td>2016-04-29T00:00:00Z</td>\n",
       "      <td>62</td>\n",
       "      <td>JARDIM DA PENHA</td>\n",
       "      <td>0</td>\n",
       "      <td>1</td>\n",
       "      <td>0</td>\n",
       "      <td>0</td>\n",
       "      <td>0</td>\n",
       "      <td>0</td>\n",
       "      <td>No</td>\n",
       "    </tr>\n",
       "  </tbody>\n",
       "</table>\n",
       "</div>"
      ],
      "text/plain": [
       "      PatientId  AppointmentID Gender          ScheduledDay  \\\n",
       "0  2.987250e+13        5642903      F  2016-04-29T18:38:08Z   \n",
       "\n",
       "         AppointmentDay  Age    Neighbourhood  Scholarship  Hypertension  \\\n",
       "0  2016-04-29T00:00:00Z   62  JARDIM DA PENHA            0             1   \n",
       "\n",
       "   Diabetes  Alcoholism  Handicap  SMS_received No-show  \n",
       "0         0           0         0             0      No  "
      ]
     },
     "execution_count": 12,
     "metadata": {},
     "output_type": "execute_result"
    }
   ],
   "source": [
    "#Viewing renamed columns\n",
    "df_appointment.head(1)"
   ]
  },
  {
   "cell_type": "markdown",
   "id": "3fec45ae",
   "metadata": {},
   "source": [
    "**Secondly removing some age values from the dataset:**"
   ]
  },
  {
   "cell_type": "code",
   "execution_count": 13,
   "id": "8759ae52",
   "metadata": {},
   "outputs": [],
   "source": [
    "#Here we also assume that 0 is the age of a child below 1 year\n",
    "df_appointment = df_appointment[(df_appointment['Age'] >= 0) & (df_appointment['Age'] < 115)]"
   ]
  },
  {
   "cell_type": "code",
   "execution_count": 14,
   "id": "302baab7",
   "metadata": {},
   "outputs": [
    {
     "data": {
      "text/plain": [
       "array([ 62,  56,   8,  76,  23,  39,  21,  19,  30,  29,  22,  28,  54,\n",
       "        15,  50,  40,  46,   4,  13,  65,  45,  51,  32,  12,  61,  38,\n",
       "        79,  18,  63,  64,  85,  59,  55,  71,  49,  78,  31,  58,  27,\n",
       "         6,   2,  11,   7,   0,   3,   1,  69,  68,  60,  67,  36,  10,\n",
       "        35,  20,  26,  34,  33,  16,  42,   5,  47,  17,  41,  44,  37,\n",
       "        24,  66,  77,  81,  70,  53,  75,  73,  52,  74,  43,  89,  57,\n",
       "        14,   9,  48,  83,  72,  25,  80,  87,  88,  84,  82,  90,  94,\n",
       "        86,  91,  98,  92,  96,  93,  95,  97, 102, 100,  99], dtype=int64)"
      ]
     },
     "execution_count": 14,
     "metadata": {},
     "output_type": "execute_result"
    }
   ],
   "source": [
    "#Checking to see the age values again\n",
    "df_appointment['Age'].unique()"
   ]
  },
  {
   "cell_type": "markdown",
   "id": "e83b5bc1",
   "metadata": {},
   "source": [
    "**Thirdly we can modify the No-show column to easily understandable for better use in data wrangling process** "
   ]
  },
  {
   "cell_type": "code",
   "execution_count": 15,
   "id": "a2674fed",
   "metadata": {},
   "outputs": [],
   "source": [
    "df_appointment['No-show'] = df_appointment['No-show'].replace(('Yes', 'No'), (\"Didn't show up\", \"Showed Up\"))"
   ]
  },
  {
   "cell_type": "markdown",
   "id": "81acc2f1",
   "metadata": {},
   "source": [
    "**Finally, it would also be better if we also had only two values for Handicap thus making a dataframe with only two values:**"
   ]
  },
  {
   "cell_type": "code",
   "execution_count": 16,
   "id": "4f9580b1",
   "metadata": {},
   "outputs": [],
   "source": [
    "df_appointment['Handicap'] =df_appointment['Handicap'].mask(df_appointment['Handicap']>1,1)"
   ]
  },
  {
   "cell_type": "code",
   "execution_count": 17,
   "id": "70ac8556",
   "metadata": {},
   "outputs": [
    {
     "data": {
      "text/plain": [
       "array([0, 1], dtype=int64)"
      ]
     },
     "execution_count": 17,
     "metadata": {},
     "output_type": "execute_result"
    }
   ],
   "source": [
    "df_appointment['Handicap'].unique()"
   ]
  },
  {
   "cell_type": "code",
   "execution_count": 18,
   "id": "1f26d6e6",
   "metadata": {},
   "outputs": [
    {
     "data": {
      "text/html": [
       "<div>\n",
       "<style scoped>\n",
       "    .dataframe tbody tr th:only-of-type {\n",
       "        vertical-align: middle;\n",
       "    }\n",
       "\n",
       "    .dataframe tbody tr th {\n",
       "        vertical-align: top;\n",
       "    }\n",
       "\n",
       "    .dataframe thead th {\n",
       "        text-align: right;\n",
       "    }\n",
       "</style>\n",
       "<table border=\"1\" class=\"dataframe\">\n",
       "  <thead>\n",
       "    <tr style=\"text-align: right;\">\n",
       "      <th></th>\n",
       "      <th>PatientId</th>\n",
       "      <th>AppointmentID</th>\n",
       "      <th>Gender</th>\n",
       "      <th>ScheduledDay</th>\n",
       "      <th>AppointmentDay</th>\n",
       "      <th>Age</th>\n",
       "      <th>Neighbourhood</th>\n",
       "      <th>Scholarship</th>\n",
       "      <th>Hypertension</th>\n",
       "      <th>Diabetes</th>\n",
       "      <th>Alcoholism</th>\n",
       "      <th>Handicap</th>\n",
       "      <th>SMS_received</th>\n",
       "      <th>No-show</th>\n",
       "    </tr>\n",
       "  </thead>\n",
       "  <tbody>\n",
       "    <tr>\n",
       "      <th>0</th>\n",
       "      <td>2.987250e+13</td>\n",
       "      <td>5642903</td>\n",
       "      <td>F</td>\n",
       "      <td>2016-04-29T18:38:08Z</td>\n",
       "      <td>2016-04-29T00:00:00Z</td>\n",
       "      <td>62</td>\n",
       "      <td>JARDIM DA PENHA</td>\n",
       "      <td>0</td>\n",
       "      <td>1</td>\n",
       "      <td>0</td>\n",
       "      <td>0</td>\n",
       "      <td>0</td>\n",
       "      <td>0</td>\n",
       "      <td>Showed Up</td>\n",
       "    </tr>\n",
       "    <tr>\n",
       "      <th>1</th>\n",
       "      <td>5.589978e+14</td>\n",
       "      <td>5642503</td>\n",
       "      <td>M</td>\n",
       "      <td>2016-04-29T16:08:27Z</td>\n",
       "      <td>2016-04-29T00:00:00Z</td>\n",
       "      <td>56</td>\n",
       "      <td>JARDIM DA PENHA</td>\n",
       "      <td>0</td>\n",
       "      <td>0</td>\n",
       "      <td>0</td>\n",
       "      <td>0</td>\n",
       "      <td>0</td>\n",
       "      <td>0</td>\n",
       "      <td>Showed Up</td>\n",
       "    </tr>\n",
       "    <tr>\n",
       "      <th>2</th>\n",
       "      <td>4.262962e+12</td>\n",
       "      <td>5642549</td>\n",
       "      <td>F</td>\n",
       "      <td>2016-04-29T16:19:04Z</td>\n",
       "      <td>2016-04-29T00:00:00Z</td>\n",
       "      <td>62</td>\n",
       "      <td>MATA DA PRAIA</td>\n",
       "      <td>0</td>\n",
       "      <td>0</td>\n",
       "      <td>0</td>\n",
       "      <td>0</td>\n",
       "      <td>0</td>\n",
       "      <td>0</td>\n",
       "      <td>Showed Up</td>\n",
       "    </tr>\n",
       "    <tr>\n",
       "      <th>3</th>\n",
       "      <td>8.679512e+11</td>\n",
       "      <td>5642828</td>\n",
       "      <td>F</td>\n",
       "      <td>2016-04-29T17:29:31Z</td>\n",
       "      <td>2016-04-29T00:00:00Z</td>\n",
       "      <td>8</td>\n",
       "      <td>PONTAL DE CAMBURI</td>\n",
       "      <td>0</td>\n",
       "      <td>0</td>\n",
       "      <td>0</td>\n",
       "      <td>0</td>\n",
       "      <td>0</td>\n",
       "      <td>0</td>\n",
       "      <td>Showed Up</td>\n",
       "    </tr>\n",
       "    <tr>\n",
       "      <th>4</th>\n",
       "      <td>8.841186e+12</td>\n",
       "      <td>5642494</td>\n",
       "      <td>F</td>\n",
       "      <td>2016-04-29T16:07:23Z</td>\n",
       "      <td>2016-04-29T00:00:00Z</td>\n",
       "      <td>56</td>\n",
       "      <td>JARDIM DA PENHA</td>\n",
       "      <td>0</td>\n",
       "      <td>1</td>\n",
       "      <td>1</td>\n",
       "      <td>0</td>\n",
       "      <td>0</td>\n",
       "      <td>0</td>\n",
       "      <td>Showed Up</td>\n",
       "    </tr>\n",
       "    <tr>\n",
       "      <th>5</th>\n",
       "      <td>9.598513e+13</td>\n",
       "      <td>5626772</td>\n",
       "      <td>F</td>\n",
       "      <td>2016-04-27T08:36:51Z</td>\n",
       "      <td>2016-04-29T00:00:00Z</td>\n",
       "      <td>76</td>\n",
       "      <td>REPÚBLICA</td>\n",
       "      <td>0</td>\n",
       "      <td>1</td>\n",
       "      <td>0</td>\n",
       "      <td>0</td>\n",
       "      <td>0</td>\n",
       "      <td>0</td>\n",
       "      <td>Showed Up</td>\n",
       "    </tr>\n",
       "    <tr>\n",
       "      <th>6</th>\n",
       "      <td>7.336882e+14</td>\n",
       "      <td>5630279</td>\n",
       "      <td>F</td>\n",
       "      <td>2016-04-27T15:05:12Z</td>\n",
       "      <td>2016-04-29T00:00:00Z</td>\n",
       "      <td>23</td>\n",
       "      <td>GOIABEIRAS</td>\n",
       "      <td>0</td>\n",
       "      <td>0</td>\n",
       "      <td>0</td>\n",
       "      <td>0</td>\n",
       "      <td>0</td>\n",
       "      <td>0</td>\n",
       "      <td>Didn't show up</td>\n",
       "    </tr>\n",
       "    <tr>\n",
       "      <th>7</th>\n",
       "      <td>3.449833e+12</td>\n",
       "      <td>5630575</td>\n",
       "      <td>F</td>\n",
       "      <td>2016-04-27T15:39:58Z</td>\n",
       "      <td>2016-04-29T00:00:00Z</td>\n",
       "      <td>39</td>\n",
       "      <td>GOIABEIRAS</td>\n",
       "      <td>0</td>\n",
       "      <td>0</td>\n",
       "      <td>0</td>\n",
       "      <td>0</td>\n",
       "      <td>0</td>\n",
       "      <td>0</td>\n",
       "      <td>Didn't show up</td>\n",
       "    </tr>\n",
       "    <tr>\n",
       "      <th>8</th>\n",
       "      <td>5.639473e+13</td>\n",
       "      <td>5638447</td>\n",
       "      <td>F</td>\n",
       "      <td>2016-04-29T08:02:16Z</td>\n",
       "      <td>2016-04-29T00:00:00Z</td>\n",
       "      <td>21</td>\n",
       "      <td>ANDORINHAS</td>\n",
       "      <td>0</td>\n",
       "      <td>0</td>\n",
       "      <td>0</td>\n",
       "      <td>0</td>\n",
       "      <td>0</td>\n",
       "      <td>0</td>\n",
       "      <td>Showed Up</td>\n",
       "    </tr>\n",
       "    <tr>\n",
       "      <th>9</th>\n",
       "      <td>7.812456e+13</td>\n",
       "      <td>5629123</td>\n",
       "      <td>F</td>\n",
       "      <td>2016-04-27T12:48:25Z</td>\n",
       "      <td>2016-04-29T00:00:00Z</td>\n",
       "      <td>19</td>\n",
       "      <td>CONQUISTA</td>\n",
       "      <td>0</td>\n",
       "      <td>0</td>\n",
       "      <td>0</td>\n",
       "      <td>0</td>\n",
       "      <td>0</td>\n",
       "      <td>0</td>\n",
       "      <td>Showed Up</td>\n",
       "    </tr>\n",
       "  </tbody>\n",
       "</table>\n",
       "</div>"
      ],
      "text/plain": [
       "      PatientId  AppointmentID Gender          ScheduledDay  \\\n",
       "0  2.987250e+13        5642903      F  2016-04-29T18:38:08Z   \n",
       "1  5.589978e+14        5642503      M  2016-04-29T16:08:27Z   \n",
       "2  4.262962e+12        5642549      F  2016-04-29T16:19:04Z   \n",
       "3  8.679512e+11        5642828      F  2016-04-29T17:29:31Z   \n",
       "4  8.841186e+12        5642494      F  2016-04-29T16:07:23Z   \n",
       "5  9.598513e+13        5626772      F  2016-04-27T08:36:51Z   \n",
       "6  7.336882e+14        5630279      F  2016-04-27T15:05:12Z   \n",
       "7  3.449833e+12        5630575      F  2016-04-27T15:39:58Z   \n",
       "8  5.639473e+13        5638447      F  2016-04-29T08:02:16Z   \n",
       "9  7.812456e+13        5629123      F  2016-04-27T12:48:25Z   \n",
       "\n",
       "         AppointmentDay  Age      Neighbourhood  Scholarship  Hypertension  \\\n",
       "0  2016-04-29T00:00:00Z   62    JARDIM DA PENHA            0             1   \n",
       "1  2016-04-29T00:00:00Z   56    JARDIM DA PENHA            0             0   \n",
       "2  2016-04-29T00:00:00Z   62      MATA DA PRAIA            0             0   \n",
       "3  2016-04-29T00:00:00Z    8  PONTAL DE CAMBURI            0             0   \n",
       "4  2016-04-29T00:00:00Z   56    JARDIM DA PENHA            0             1   \n",
       "5  2016-04-29T00:00:00Z   76          REPÚBLICA            0             1   \n",
       "6  2016-04-29T00:00:00Z   23         GOIABEIRAS            0             0   \n",
       "7  2016-04-29T00:00:00Z   39         GOIABEIRAS            0             0   \n",
       "8  2016-04-29T00:00:00Z   21         ANDORINHAS            0             0   \n",
       "9  2016-04-29T00:00:00Z   19          CONQUISTA            0             0   \n",
       "\n",
       "   Diabetes  Alcoholism  Handicap  SMS_received         No-show  \n",
       "0         0           0         0             0       Showed Up  \n",
       "1         0           0         0             0       Showed Up  \n",
       "2         0           0         0             0       Showed Up  \n",
       "3         0           0         0             0       Showed Up  \n",
       "4         1           0         0             0       Showed Up  \n",
       "5         0           0         0             0       Showed Up  \n",
       "6         0           0         0             0  Didn't show up  \n",
       "7         0           0         0             0  Didn't show up  \n",
       "8         0           0         0             0       Showed Up  \n",
       "9         0           0         0             0       Showed Up  "
      ]
     },
     "execution_count": 18,
     "metadata": {},
     "output_type": "execute_result"
    }
   ],
   "source": [
    "#Displaying the final cleaned 10 rows of data\n",
    "df_appointment.head(10)"
   ]
  },
  {
   "cell_type": "markdown",
   "id": "84d5348a",
   "metadata": {},
   "source": [
    "Here, all of the necessary steps to prepare useful data have been done, so we will move to exploratory data analysis and see what we can find"
   ]
  },
  {
   "cell_type": "markdown",
   "id": "82b9e98d",
   "metadata": {},
   "source": [
    "***\n",
    "<a id='eda'></a>\n",
    "## Exploratory Data Analysis \n",
    "\n",
    "Here we will try to find some relationships and patterns that will help us to draw some conclusions to our questions. \n",
    "***\n",
    "### Research Question 1: Can the age of the patients be a factor for them to show up or not show up for the medical appointments?"
   ]
  },
  {
   "cell_type": "markdown",
   "id": "59158f37",
   "metadata": {},
   "source": [
    "Here we will create a new column called Age_group that we will use to check the relationship with No-show(Yes) data"
   ]
  },
  {
   "cell_type": "code",
   "execution_count": 19,
   "id": "579d9090",
   "metadata": {},
   "outputs": [],
   "source": [
    "df_appointment.loc[df_appointment['Age'].between(0, 14, 'both'), 'Age_group'] = 'Children'\n",
    "df_appointment.loc[df_appointment['Age'].between(15, 24, 'both'), 'Age_group'] = 'Youth'\n",
    "df_appointment.loc[df_appointment['Age'].between(25, 64, 'both'), 'Age_group'] = 'Adults'\n",
    "df_appointment.loc[df_appointment['Age'].between(65, 115, 'left'), 'Age_group'] = 'Seniors'"
   ]
  },
  {
   "cell_type": "code",
   "execution_count": 20,
   "id": "426fd269",
   "metadata": {},
   "outputs": [
    {
     "name": "stdout",
     "output_type": "stream",
     "text": [
      "<class 'pandas.core.frame.DataFrame'>\n",
      "Int64Index: 110521 entries, 0 to 110526\n",
      "Data columns (total 15 columns):\n",
      " #   Column          Non-Null Count   Dtype  \n",
      "---  ------          --------------   -----  \n",
      " 0   PatientId       110521 non-null  float64\n",
      " 1   AppointmentID   110521 non-null  int64  \n",
      " 2   Gender          110521 non-null  object \n",
      " 3   ScheduledDay    110521 non-null  object \n",
      " 4   AppointmentDay  110521 non-null  object \n",
      " 5   Age             110521 non-null  int64  \n",
      " 6   Neighbourhood   110521 non-null  object \n",
      " 7   Scholarship     110521 non-null  int64  \n",
      " 8   Hypertension    110521 non-null  int64  \n",
      " 9   Diabetes        110521 non-null  int64  \n",
      " 10  Alcoholism      110521 non-null  int64  \n",
      " 11  Handicap        110521 non-null  int64  \n",
      " 12  SMS_received    110521 non-null  int64  \n",
      " 13  No-show         110521 non-null  object \n",
      " 14  Age_group       110521 non-null  object \n",
      "dtypes: float64(1), int64(8), object(6)\n",
      "memory usage: 13.5+ MB\n"
     ]
    }
   ],
   "source": [
    "#Checking to see the Age_group\n",
    "df_appointment.info()"
   ]
  },
  {
   "cell_type": "code",
   "execution_count": 21,
   "id": "a7b3faf0",
   "metadata": {
    "scrolled": false
   },
   "outputs": [
    {
     "data": {
      "image/png": "[encoded data removed]",
      "text/plain": [
       "<Figure size 1080x576 with 1 Axes>"
      ]
     },
     "metadata": {
      "needs_background": "light"
     },
     "output_type": "display_data"
    }
   ],
   "source": [
    "#Plotting a bar graph to get some analysis\n",
    "df = df_appointment.groupby(['Age_group','No-show']).size()\n",
    "df=df.unstack()\n",
    "df.plot(kind='bar', figsize = (15,8))\n",
    "plt.xlabel('Age Group')\n",
    "plt.ylabel('No-show')\n",
    "plt.show()"
   ]
  },
  {
   "cell_type": "code",
   "execution_count": 55,
   "id": "fccb1937",
   "metadata": {
    "scrolled": false
   },
   "outputs": [
    {
     "data": {
      "image/png": "[encoded data removed]",
      "text/plain": [
       "<Figure size 1080x576 with 1 Axes>"
      ]
     },
     "metadata": {
      "needs_background": "light"
     },
     "output_type": "display_data"
    }
   ],
   "source": [
    "#This plot will help us see distribution of patients across ages\n",
    "df_appointment['Age'].plot(kind='hist', figsize=(15,8))\n",
    "plt.xlabel('Ages')\n",
    "plt.ylabel('Number of people')\n",
    "plt.show()"
   ]
  },
  {
   "cell_type": "markdown",
   "id": "0e213064",
   "metadata": {},
   "source": [
    "This has helped us see that generally there are more people aged 60 and below , meaning that many patients are not elderly"
   ]
  },
  {
   "cell_type": "code",
   "execution_count": 23,
   "id": "2201e612",
   "metadata": {
    "scrolled": false
   },
   "outputs": [
    {
     "data": {
      "text/html": [
       "<div>\n",
       "<style scoped>\n",
       "    .dataframe tbody tr th:only-of-type {\n",
       "        vertical-align: middle;\n",
       "    }\n",
       "\n",
       "    .dataframe tbody tr th {\n",
       "        vertical-align: top;\n",
       "    }\n",
       "\n",
       "    .dataframe thead th {\n",
       "        text-align: right;\n",
       "    }\n",
       "</style>\n",
       "<table border=\"1\" class=\"dataframe\">\n",
       "  <thead>\n",
       "    <tr style=\"text-align: right;\">\n",
       "      <th>No-show</th>\n",
       "      <th>Didn't show up</th>\n",
       "      <th>Showed Up</th>\n",
       "    </tr>\n",
       "    <tr>\n",
       "      <th>Age_group</th>\n",
       "      <th></th>\n",
       "      <th></th>\n",
       "    </tr>\n",
       "  </thead>\n",
       "  <tbody>\n",
       "    <tr>\n",
       "      <th>Adults</th>\n",
       "      <td>11620</td>\n",
       "      <td>47237</td>\n",
       "    </tr>\n",
       "    <tr>\n",
       "      <th>Children</th>\n",
       "      <td>4926</td>\n",
       "      <td>18331</td>\n",
       "    </tr>\n",
       "    <tr>\n",
       "      <th>Seniors</th>\n",
       "      <td>2230</td>\n",
       "      <td>12167</td>\n",
       "    </tr>\n",
       "    <tr>\n",
       "      <th>Youth</th>\n",
       "      <td>3540</td>\n",
       "      <td>10470</td>\n",
       "    </tr>\n",
       "  </tbody>\n",
       "</table>\n",
       "</div>"
      ],
      "text/plain": [
       "No-show    Didn't show up  Showed Up\n",
       "Age_group                           \n",
       "Adults              11620      47237\n",
       "Children             4926      18331\n",
       "Seniors              2230      12167\n",
       "Youth                3540      10470"
      ]
     },
     "execution_count": 23,
     "metadata": {},
     "output_type": "execute_result"
    }
   ],
   "source": [
    "df.head()"
   ]
  },
  {
   "cell_type": "markdown",
   "id": "6c2bc6b8",
   "metadata": {},
   "source": [
    "From the above data and plot, we can clearly see that Adults have highest number of people who showed up and did not show up where as Seniors have lowest number of those who did not show up and there is no clear pattern of age that determines whether the patients will attend their appointment or not"
   ]
  },
  {
   "cell_type": "markdown",
   "id": "0f5ecad6",
   "metadata": {},
   "source": [
    "### Research Question 2 :Does the patient's health condition affect if they will show up for their medical appointments?\n",
    "\n",
    "We will look at Diabetes, Hypertension, Handicap and Alcoholism to answer this question"
   ]
  },
  {
   "cell_type": "markdown",
   "id": "632260e1",
   "metadata": {},
   "source": [
    "We will use integer and binary values for easier handling here"
   ]
  },
  {
   "cell_type": "code",
   "execution_count": 24,
   "id": "ce7219e8",
   "metadata": {},
   "outputs": [],
   "source": [
    "#Changing No-show column values to integer\n",
    "df_appointment['No-show'] = df_appointment['No-show'].replace(('Showed Up', \"Didn't show up\"), (1, 0))"
   ]
  },
  {
   "cell_type": "code",
   "execution_count": 25,
   "id": "fde6fc7a",
   "metadata": {},
   "outputs": [],
   "source": [
    "#Changing column name No-show to No_show to avoid erroes\n",
    "df_appointment.rename(columns = {'No-show' : 'No_show'}, inplace = True)"
   ]
  },
  {
   "cell_type": "markdown",
   "id": "d5c382b7",
   "metadata": {},
   "source": [
    "**These insights will help us analyze and give our say about diabetes**"
   ]
  },
  {
   "cell_type": "code",
   "execution_count": 26,
   "id": "a7b09b04",
   "metadata": {},
   "outputs": [
    {
     "data": {
      "text/plain": [
       "6513"
      ]
     },
     "execution_count": 26,
     "metadata": {},
     "output_type": "execute_result"
    }
   ],
   "source": [
    "#The number of people who arrived at their appointment and had diabetes\n",
    "Arrived_with_diabetes = df_appointment[(df_appointment.Diabetes == 1) & (df_appointment.No_show == 1)].count().No_show\n",
    "Arrived_with_diabetes"
   ]
  },
  {
   "cell_type": "code",
   "execution_count": 27,
   "id": "fa247fec",
   "metadata": {},
   "outputs": [
    {
     "data": {
      "text/plain": [
       "81692"
      ]
     },
     "execution_count": 27,
     "metadata": {},
     "output_type": "execute_result"
    }
   ],
   "source": [
    "#The number of people who arrived at their appointment and did not have diabetes\n",
    "Arrived_without_diabetes =  df_appointment[(df_appointment.Diabetes == 0) & (df_appointment.No_show == 1)].count().No_show\n",
    "Arrived_without_diabetes"
   ]
  },
  {
   "cell_type": "code",
   "execution_count": 28,
   "id": "cc2009d4",
   "metadata": {},
   "outputs": [
    {
     "data": {
      "text/plain": [
       "102578"
      ]
     },
     "execution_count": 28,
     "metadata": {},
     "output_type": "execute_result"
    }
   ],
   "source": [
    "#Number of people without diabetes\n",
    "People_without_diabetes = df_appointment[(df_appointment.Diabetes == 0)].count().Diabetes\n",
    "People_without_diabetes"
   ]
  },
  {
   "cell_type": "code",
   "execution_count": 29,
   "id": "2e27ae98",
   "metadata": {},
   "outputs": [
    {
     "data": {
      "text/plain": [
       "7943"
      ]
     },
     "execution_count": 29,
     "metadata": {},
     "output_type": "execute_result"
    }
   ],
   "source": [
    "#Number of people with diabetes\n",
    "People_with_diabetes = df_appointment[(df_appointment.Diabetes == 1)].count().Diabetes\n",
    "People_with_diabetes"
   ]
  },
  {
   "cell_type": "markdown",
   "id": "3f5d2669",
   "metadata": {},
   "source": [
    "Thus calculating percentages from these data to gain some insight"
   ]
  },
  {
   "cell_type": "code",
   "execution_count": 30,
   "id": "8f00671d",
   "metadata": {},
   "outputs": [],
   "source": [
    "#this function will calculate percentage differences for all the health conditions\n",
    "def calculate_percentage_values(Arrived_with,People_with,Arrived_without,People_without):\n",
    "    '''\n",
    "    This Function will help me calculate percentage value difference of those who arrived and those who did not arrive with\n",
    "    that medical condition\n",
    "    '''\n",
    "    a = (Arrived_with/People_with ) * 100\n",
    "    b = (Arrived_without/People_without) * 100\n",
    "    print('Percentage of those who arrived with this health condition : {}'.format(a))\n",
    "    print('Percentage of those who arrived without this health condition : {}'.format(b))\n",
    "    result = print('The percentage difference for this health condition = {}'.format(a-b))\n",
    "    return result\n",
    "    "
   ]
  },
  {
   "cell_type": "code",
   "execution_count": 31,
   "id": "d86aa1ae",
   "metadata": {
    "scrolled": true
   },
   "outputs": [
    {
     "name": "stdout",
     "output_type": "stream",
     "text": [
      "Percentage of those who arrived with this health condition : 81.99672667757774\n",
      "Percentage of those who arrived without this health condition : 79.63890892784028\n",
      "The percentage difference for this health condition = 2.357817749737464\n"
     ]
    }
   ],
   "source": [
    "calculate_percentage_values(Arrived_with_diabetes,People_with_diabetes,Arrived_without_diabetes,People_without_diabetes)"
   ]
  },
  {
   "cell_type": "markdown",
   "id": "46f01d51",
   "metadata": {},
   "source": [
    "From the above calculations we can see that Generally people who suffer from diabetes attend their appointments more than those who do not suffer diabetes but only by a difference of 2.35% "
   ]
  },
  {
   "cell_type": "markdown",
   "id": "0ffdcc59",
   "metadata": {},
   "source": [
    "**These insights will help us analyze and give our say about Hypertension**"
   ]
  },
  {
   "cell_type": "code",
   "execution_count": 32,
   "id": "29bf6f64",
   "metadata": {},
   "outputs": [
    {
     "data": {
      "text/plain": [
       "18028"
      ]
     },
     "execution_count": 32,
     "metadata": {},
     "output_type": "execute_result"
    }
   ],
   "source": [
    "#The number of people who arrived at their appointment and had hypertension\n",
    "Arrived_with_hypertension = df_appointment[(df_appointment.Hypertension == 1) & (df_appointment.No_show == 1)].count().No_show\n",
    "Arrived_with_hypertension "
   ]
  },
  {
   "cell_type": "code",
   "execution_count": 33,
   "id": "ccf3d45e",
   "metadata": {},
   "outputs": [
    {
     "data": {
      "text/plain": [
       "21800"
      ]
     },
     "execution_count": 33,
     "metadata": {},
     "output_type": "execute_result"
    }
   ],
   "source": [
    "#The number of people with hypertension\n",
    "People_with_hypertension = df_appointment[(df_appointment.Hypertension == 1)].count().Hypertension\n",
    "People_with_hypertension"
   ]
  },
  {
   "cell_type": "code",
   "execution_count": 34,
   "id": "4b4779fc",
   "metadata": {},
   "outputs": [
    {
     "data": {
      "text/plain": [
       "70177"
      ]
     },
     "execution_count": 34,
     "metadata": {},
     "output_type": "execute_result"
    }
   ],
   "source": [
    "#The number of people who arrived at their appointment and did not have hypertension\n",
    "Arrived_without_hypertension =  df_appointment[(df_appointment.Hypertension == 0) & (df_appointment.No_show == 1)].count().No_show\n",
    "Arrived_without_hypertension"
   ]
  },
  {
   "cell_type": "code",
   "execution_count": 35,
   "id": "9566d4f2",
   "metadata": {},
   "outputs": [
    {
     "data": {
      "text/plain": [
       "88721"
      ]
     },
     "execution_count": 35,
     "metadata": {},
     "output_type": "execute_result"
    }
   ],
   "source": [
    "#The number of people without hypertension\n",
    "People_without_hypertension = df_appointment[(df_appointment.Hypertension == 0)].count().Hypertension\n",
    "People_without_hypertension"
   ]
  },
  {
   "cell_type": "markdown",
   "id": "306915ad",
   "metadata": {},
   "source": [
    "Calculating percentage values here"
   ]
  },
  {
   "cell_type": "code",
   "execution_count": 36,
   "id": "27d63eea",
   "metadata": {},
   "outputs": [
    {
     "name": "stdout",
     "output_type": "stream",
     "text": [
      "Percentage of those who arrived with this health condition : 82.69724770642202\n",
      "Percentage of those who arrived without this health condition : 79.09852233405846\n",
      "The percentage difference for this health condition = 3.5987253723635604\n"
     ]
    }
   ],
   "source": [
    "calculate_percentage_values(Arrived_with_hypertension,People_with_hypertension,Arrived_without_hypertension,People_without_hypertension)"
   ]
  },
  {
   "cell_type": "markdown",
   "id": "29055dd0",
   "metadata": {},
   "source": [
    "From the above calculations we can see that Generally people who suffer from hypertension attend their appointments more than those who do not suffer hypertension but only by a difference of about 3.6%"
   ]
  },
  {
   "cell_type": "markdown",
   "id": "2da71efc",
   "metadata": {},
   "source": [
    "**These insights will help us analyze and give our say about Handicap**"
   ]
  },
  {
   "cell_type": "code",
   "execution_count": 37,
   "id": "3171fcc0",
   "metadata": {},
   "outputs": [
    {
     "data": {
      "text/plain": [
       "1833"
      ]
     },
     "execution_count": 37,
     "metadata": {},
     "output_type": "execute_result"
    }
   ],
   "source": [
    "#The number of people who arrived at their appointment and had a handicap\n",
    "Arrived_with_handicap = df_appointment[(df_appointment.Handicap == 1) & (df_appointment.No_show == 1)].count().No_show\n",
    "Arrived_with_handicap "
   ]
  },
  {
   "cell_type": "code",
   "execution_count": 38,
   "id": "5bd24077",
   "metadata": {},
   "outputs": [
    {
     "data": {
      "text/plain": [
       "2237"
      ]
     },
     "execution_count": 38,
     "metadata": {},
     "output_type": "execute_result"
    }
   ],
   "source": [
    "#The number of people with a handicap\n",
    "People_with_handicap = df_appointment[(df_appointment.Handicap == 1)].count().Handicap\n",
    "People_with_handicap"
   ]
  },
  {
   "cell_type": "code",
   "execution_count": 39,
   "id": "1ba6b62a",
   "metadata": {},
   "outputs": [
    {
     "data": {
      "text/plain": [
       "86372"
      ]
     },
     "execution_count": 39,
     "metadata": {},
     "output_type": "execute_result"
    }
   ],
   "source": [
    "#The number of people who arrived at their appointment and did not have a handicap\n",
    "Arrived_without_handicap =  df_appointment[(df_appointment.Handicap == 0) & (df_appointment.No_show == 1)].count().No_show\n",
    "Arrived_without_handicap"
   ]
  },
  {
   "cell_type": "code",
   "execution_count": 40,
   "id": "3c1b354a",
   "metadata": {},
   "outputs": [
    {
     "data": {
      "text/plain": [
       "108284"
      ]
     },
     "execution_count": 40,
     "metadata": {},
     "output_type": "execute_result"
    }
   ],
   "source": [
    "#The number of people without a handicap\n",
    "People_without_handicap = df_appointment[(df_appointment.Handicap == 0)].count().Handicap\n",
    "People_without_handicap"
   ]
  },
  {
   "cell_type": "markdown",
   "id": "f2a7c980",
   "metadata": {},
   "source": [
    "Calculating percentage values here :"
   ]
  },
  {
   "cell_type": "code",
   "execution_count": 41,
   "id": "b1f47c92",
   "metadata": {},
   "outputs": [
    {
     "name": "stdout",
     "output_type": "stream",
     "text": [
      "Percentage of those who arrived with this health condition : 81.9400983459991\n",
      "Percentage of those who arrived without this health condition : 79.76432344575376\n",
      "The percentage difference for this health condition = 2.1757749002453437\n"
     ]
    }
   ],
   "source": [
    "calculate_percentage_values(Arrived_with_handicap,People_with_handicap,Arrived_without_handicap,People_without_handicap)"
   ]
  },
  {
   "cell_type": "markdown",
   "id": "70aa07bc",
   "metadata": {},
   "source": [
    "From the above calculations we can see that Generally people who suffer from a handicap attend their appointments more than those who do not suffer any handicap but only by a difference of about 2.17%"
   ]
  },
  {
   "cell_type": "markdown",
   "id": "f6919f20",
   "metadata": {},
   "source": [
    "**These insights will help us analyze and give our say about Alcoholism**"
   ]
  },
  {
   "cell_type": "code",
   "execution_count": 42,
   "id": "01947d46",
   "metadata": {},
   "outputs": [
    {
     "data": {
      "text/plain": [
       "2683"
      ]
     },
     "execution_count": 42,
     "metadata": {},
     "output_type": "execute_result"
    }
   ],
   "source": [
    "#The number of people who arrived at their appointment and were alcoholic\n",
    "Arrived_with_alcoholism = df_appointment[(df_appointment.Alcoholism == 1) & (df_appointment.No_show == 1)].count().No_show\n",
    "Arrived_with_alcoholism"
   ]
  },
  {
   "cell_type": "code",
   "execution_count": 43,
   "id": "4293d621",
   "metadata": {},
   "outputs": [
    {
     "data": {
      "text/plain": [
       "3360"
      ]
     },
     "execution_count": 43,
     "metadata": {},
     "output_type": "execute_result"
    }
   ],
   "source": [
    "#The number of people with alcoholism\n",
    "People_with_alcoholism = df_appointment[(df_appointment.Alcoholism == 1)].count().Alcoholism\n",
    "People_with_alcoholism"
   ]
  },
  {
   "cell_type": "code",
   "execution_count": 44,
   "id": "06d37ead",
   "metadata": {},
   "outputs": [
    {
     "data": {
      "text/plain": [
       "85522"
      ]
     },
     "execution_count": 44,
     "metadata": {},
     "output_type": "execute_result"
    }
   ],
   "source": [
    "#The number of people who arrived at their appointment and were not alcoholics\n",
    "Arrived_without_alcoholism =  df_appointment[(df_appointment.Alcoholism == 0) & (df_appointment.No_show == 1)].count().No_show\n",
    "Arrived_without_alcoholism"
   ]
  },
  {
   "cell_type": "code",
   "execution_count": 45,
   "id": "a3ab32d6",
   "metadata": {},
   "outputs": [
    {
     "data": {
      "text/plain": [
       "107161"
      ]
     },
     "execution_count": 45,
     "metadata": {},
     "output_type": "execute_result"
    }
   ],
   "source": [
    "#The number of people without alcoholism\n",
    "People_without_alcoholism = df_appointment[(df_appointment.Alcoholism == 0)].count().Alcoholism\n",
    "People_without_alcoholism"
   ]
  },
  {
   "cell_type": "markdown",
   "id": "5b3af4d3",
   "metadata": {},
   "source": [
    "Calculating percentage values here :"
   ]
  },
  {
   "cell_type": "code",
   "execution_count": 46,
   "id": "c30966be",
   "metadata": {},
   "outputs": [
    {
     "name": "stdout",
     "output_type": "stream",
     "text": [
      "Percentage of those who arrived with this health condition : 79.85119047619048\n",
      "Percentage of those who arrived without this health condition : 79.8070193447243\n",
      "The percentage difference for this health condition = 0.0441711314661859\n"
     ]
    }
   ],
   "source": [
    "calculate_percentage_values(Arrived_with_alcoholism,People_with_alcoholism,Arrived_without_alcoholism,People_without_alcoholism)"
   ]
  },
  {
   "cell_type": "markdown",
   "id": "48370c68",
   "metadata": {},
   "source": [
    "From the above calculation, alcoholism does not really affect a patient's attendance to the medical appointments as the difference is about 0.044% which is negligible"
   ]
  },
  {
   "cell_type": "markdown",
   "id": "0684ea36",
   "metadata": {},
   "source": [
    "Creating a new dataframe to visualize this"
   ]
  },
  {
   "cell_type": "code",
   "execution_count": 47,
   "id": "b720dbd9",
   "metadata": {
    "scrolled": true
   },
   "outputs": [
    {
     "data": {
      "image/png": "[encoded data removed]",
      "text/plain": [
       "<Figure size 1080x576 with 1 Axes>"
      ]
     },
     "metadata": {
      "needs_background": "light"
     },
     "output_type": "display_data"
    }
   ],
   "source": [
    "With = [81.99672667757774,82.69724770642202,81.9400983459991,79.85119047619048]\n",
    "Without = [79.63890892784028,79.09852233405846,79.76432344575376,79.8070193447243]\n",
    "index = ['Diabetes', 'Hypertension', 'Handicap', 'Alcoholism']\n",
    "df_health_conditions = pd.DataFrame({'With': With,'Without': Without}, index=index) \n",
    "ax = df_health_conditions.plot.box(rot=0,figsize = (15,8))\n",
    "plt.xlabel('Health Conditions')\n",
    "plt.ylabel('Percentage of people arrived to their medical appointment')\n",
    "plt.show()"
   ]
  },
  {
   "cell_type": "markdown",
   "id": "928e0fb0",
   "metadata": {},
   "source": [
    "From the above plot we can generally see that higher percentage of people that attended their appoitments were the one with the health conditions"
   ]
  },
  {
   "cell_type": "markdown",
   "id": "88960840",
   "metadata": {},
   "source": [
    "### Research Question 3: Does sending an SMS regarding the medical appointment to the patients help them show up for their appointments?"
   ]
  },
  {
   "cell_type": "code",
   "execution_count": 48,
   "id": "5ad63a64",
   "metadata": {},
   "outputs": [
    {
     "data": {
      "text/plain": [
       "25697"
      ]
     },
     "execution_count": 48,
     "metadata": {},
     "output_type": "execute_result"
    }
   ],
   "source": [
    "#The number of people who arrived and had received an SMS\n",
    "Arrived_with_sms = df_appointment[(df_appointment.SMS_received == 1) & (df_appointment.No_show == 1)].count().No_show\n",
    "Arrived_with_sms"
   ]
  },
  {
   "cell_type": "code",
   "execution_count": 49,
   "id": "73e9c180",
   "metadata": {},
   "outputs": [
    {
     "data": {
      "text/plain": [
       "35481"
      ]
     },
     "execution_count": 49,
     "metadata": {},
     "output_type": "execute_result"
    }
   ],
   "source": [
    "#The number of people who received sms\n",
    "People_who_received_sms = df_appointment[(df_appointment.SMS_received == 1)].count().SMS_received\n",
    "People_who_received_sms"
   ]
  },
  {
   "cell_type": "code",
   "execution_count": 50,
   "id": "cdfaada4",
   "metadata": {},
   "outputs": [
    {
     "data": {
      "text/plain": [
       "62508"
      ]
     },
     "execution_count": 50,
     "metadata": {},
     "output_type": "execute_result"
    }
   ],
   "source": [
    "#The number of people who arrived and had not received an SMS\n",
    "Arrived_without_sms = df_appointment[(df_appointment.SMS_received == 0) & (df_appointment.No_show == 1)].count().No_show\n",
    "Arrived_without_sms"
   ]
  },
  {
   "cell_type": "code",
   "execution_count": 51,
   "id": "0ca3b79c",
   "metadata": {},
   "outputs": [
    {
     "data": {
      "text/plain": [
       "75040"
      ]
     },
     "execution_count": 51,
     "metadata": {},
     "output_type": "execute_result"
    }
   ],
   "source": [
    "#The number of people who did not receive an sms\n",
    "People_who_didnot_get_sms = df_appointment[(df_appointment.SMS_received == 0)].count().SMS_received\n",
    "People_who_didnot_get_sms"
   ]
  },
  {
   "cell_type": "code",
   "execution_count": 52,
   "id": "12d65fd8",
   "metadata": {},
   "outputs": [
    {
     "name": "stdout",
     "output_type": "stream",
     "text": [
      "Percentage of those who arrived and had received an sms: 72.42467799667428\n",
      "Percentage of those who arrived and had not received an sms : 83.2995735607676\n",
      "10.874895564093322\n"
     ]
    }
   ],
   "source": [
    "p9 = (Arrived_with_sms/People_who_received_sms) * 100\n",
    "p10 = (Arrived_without_sms/People_who_didnot_get_sms) * 100\n",
    "print('Percentage of those who arrived and had received an sms: {}'.format(p9))\n",
    "print('Percentage of those who arrived and had not received an sms : {}'.format(p10))\n",
    "print(p10-p9)"
   ]
  },
  {
   "cell_type": "markdown",
   "id": "9e90baa3",
   "metadata": {},
   "source": [
    "This exploration tells us that sending an SMS to the patient about the appointment does not matter as we can actually see here that those who arrived and had not received an sms are much more and had a better response than those who received an sms"
   ]
  },
  {
   "cell_type": "code",
   "execution_count": 53,
   "id": "d3096879",
   "metadata": {
    "scrolled": true
   },
   "outputs": [
    {
     "data": {
      "image/png": "[encoded data removed]",
      "text/plain": [
       "<Figure size 1080x576 with 1 Axes>"
      ]
     },
     "metadata": {
      "needs_background": "light"
     },
     "output_type": "display_data"
    }
   ],
   "source": [
    "With = [72.42467799667428]\n",
    "Without = [83.2995735607676]\n",
    "index = ['SMS']\n",
    "df_sms = pd.DataFrame({'With': With,'Without': Without}, index=index)\n",
    "ax = df_sms.plot.barh(rot=0,figsize = (15,8))\n",
    "plt.xlabel('Percentage of people arrived to their medical appointment')\n",
    "plt.show()           "
   ]
  },
  {
   "cell_type": "markdown",
   "id": "9b79eac4",
   "metadata": {},
   "source": [
    "This plot has helped us to get a clear picture that those who did not get an sms generally made it to their appointment compared to thosethat received an sms"
   ]
  },
  {
   "cell_type": "code",
   "execution_count": 69,
   "id": "bf949c55",
   "metadata": {
    "scrolled": false
   },
   "outputs": [
    {
     "data": {
      "image/png": "[encoded data removed]",
      "text/plain": [
       "<Figure size 1080x576 with 1 Axes>"
      ]
     },
     "metadata": {
      "needs_background": "light"
     },
     "output_type": "display_data"
    }
   ],
   "source": [
    "df_appointment['SMS_received'].plot(kind='hist', figsize=(15,8))\n",
    "plt.xlabel('SMS Received Status')\n",
    "plt.ylabel('Number of people')\n",
    "plt.show()\n"
   ]
  },
  {
   "cell_type": "markdown",
   "id": "ffe6a612",
   "metadata": {},
   "source": [
    "From the previous argument, here we can also see that People who received an sms(1) are fewer than those who did not receive an sms(0) and actually in that state, many of this fewer number did not attend their appointments thus sending an sms did not bring about any effect to the attendance of the patients to their medical appointments"
   ]
  },
  {
   "cell_type": "markdown",
   "id": "10075e5f",
   "metadata": {},
   "source": [
    "<a id='conclusions'></a>\n",
    "***\n",
    "## Conclusions and answers"
   ]
  },
  {
   "cell_type": "markdown",
   "id": "0b0b7d25",
   "metadata": {},
   "source": [
    "The following are my questions and answers based on my exploration in this dataset:\n",
    "\n",
    "* **Can the age of the patients be a factor for them to show up or not show up for the medical appointments?**\n",
    "  * Generally, there is no clear pattern of age that determines whether the patients will attend their appointment or not\n",
    "\n",
    "\n",
    "* **Does the patient's health condition affect if they will show up for their medical appointments?**\n",
    "  * I dived into four health conditions which were Alcoholism, Hypertension, Handicap and Diabetes and clearly found out that these health conditions do matter in the question of whether the patient will attend the appointment or not. With an exception to alcoholism, people who suffered Hypertension, Handicap and Diabetes were more likely to make the appointment.\n",
    "  \n",
    "* **Does sending an SMS regarding the medical appointment to the patients help them show up for their appointments?**\n",
    "  * Generally, sending an sms does not help them show up for the appointments as the people who did not receive an sms attended their appointments better \n",
    "\n",
    "The following are the limitations I came upon to discover:\n",
    "\n",
    "* **In the data source we are told that SMS_received means 1 or more messages sent to the patient, there is no any specification whether the sms was sent prior to the appointment day and by what time, basically I think sending an sms before the appointment day would actually help boost the attendance of patients to their appointments**\n",
    "\n",
    "* **The Handicap data was only numerical and you could not get a picture of the seriousness of the patients' handicaps**\n",
    "\n",
    "References used:\n",
    "\n",
    "  https://pandas.pydata.org/docs/reference/api/pandas.DataFrame.plot.bar.html\n",
    "     \n",
    "  https://stackoverflow.com/questions/34251641/how-to-make-a-bar-plot-of-non-numerical-data-in-pandas  \n",
    "     \n",
    "  https://stackoverflow.com/questions/52874240/usageerror-line-magic-function-not-found-jupyter-notebook"
   ]
  },
  {
   "cell_type": "code",
   "execution_count": null,
   "id": "bd1386ce",
   "metadata": {},
   "outputs": [],
   "source": []
  }
 ],
 "metadata": {
  "kernelspec": {
   "display_name": "Python 3 (ipykernel)",
   "language": "python",
   "name": "python3"
  },
  "language_info": {
   "codemirror_mode": {
    "name": "ipython",
    "version": 3
   },
   "file_extension": ".py",
   "mimetype": "text/x-python",
   "name": "python",
   "nbconvert_exporter": "python",
   "pygments_lexer": "ipython3",
   "version": "3.9.7"
  }
 },
 "nbformat": 4,
 "nbformat_minor": 5
}
